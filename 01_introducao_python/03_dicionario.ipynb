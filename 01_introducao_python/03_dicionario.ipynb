{
 "cells": [
  {
   "cell_type": "code",
   "execution_count": 16,
   "id": "07ca3240",
   "metadata": {},
   "outputs": [
    {
     "data": {
      "text/plain": [
       "{'nome': 'Gustavo',\n",
       " 'idade': 27,\n",
       " 'cidade': 'Gama',\n",
       " 'contato': {'email': 'lg@email.com', 'celular': '61-912345678'}}"
      ]
     },
     "execution_count": 16,
     "metadata": {},
     "output_type": "execute_result"
    }
   ],
   "source": [
    "dados = {\n",
    "    'nome': 'Gustavo', \n",
    "    'idade': 27, \n",
    "    'cidade': 'Gama',\n",
    "    'contato': {\n",
    "        'email': 'lg@email.com',\n",
    "        'celular': '61-912345678'\n",
    "    }\n",
    "    }\n",
    "dados"
   ]
  },
  {
   "cell_type": "code",
   "execution_count": 17,
   "id": "2ea28f15",
   "metadata": {},
   "outputs": [
    {
     "data": {
      "text/plain": [
       "{'nome': 'Gustavo',\n",
       " 'idade': 27,\n",
       " 'cidade': 'Gama',\n",
       " 'contato': {'email': 'lg@email.com', 'celular': '61-912345678'},\n",
       " 'profissão': 'Analista de Dados Sênior'}"
      ]
     },
     "execution_count": 17,
     "metadata": {},
     "output_type": "execute_result"
    }
   ],
   "source": [
    "# inserindo atributo profissão\n",
    "dados  ['profissão'] = 'Analista de Dados Sênior'\n",
    "dados"
   ]
  },
  {
   "cell_type": "code",
   "execution_count": null,
   "id": "5ee94d88",
   "metadata": {},
   "outputs": [],
   "source": [
    "# deletando atributo cidade\n",
    "del dados[\"cidade\"]"
   ]
  },
  {
   "cell_type": "code",
   "execution_count": 20,
   "id": "6126d204",
   "metadata": {},
   "outputs": [
    {
     "name": "stdout",
     "output_type": "stream",
     "text": [
      "{'email': 'lg@email.com', 'celular': '61-912345678'}\n",
      "lg@email.com\n"
     ]
    }
   ],
   "source": [
    "# chamando no print \n",
    "print(dados['contato'])\n",
    "print(dados['contato']['email'])"
   ]
  }
 ],
 "metadata": {
  "kernelspec": {
   "display_name": "Python 3",
   "language": "python",
   "name": "python3"
  },
  "language_info": {
   "codemirror_mode": {
    "name": "ipython",
    "version": 3
   },
   "file_extension": ".py",
   "mimetype": "text/x-python",
   "name": "python",
   "nbconvert_exporter": "python",
   "pygments_lexer": "ipython3",
   "version": "3.11.9"
  }
 },
 "nbformat": 4,
 "nbformat_minor": 5
}

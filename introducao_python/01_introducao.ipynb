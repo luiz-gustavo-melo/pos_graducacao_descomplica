{
 "cells": [
  {
   "cell_type": "code",
   "execution_count": 2,
   "id": "b996f2fb",
   "metadata": {},
   "outputs": [
    {
     "name": "stdout",
     "output_type": "stream",
     "text": [
      "bom dia ,  Gustavo . Seja bem-vindo!\n",
      "[2, 3, 4, 5, 6]\n"
     ]
    }
   ],
   "source": [
    "# saudação através do nome digitado\n",
    "saudacao = \"bom dia\"\n",
    "\n",
    "nome = input(\"Digite o nome que receberá a saudaçã: \")\n",
    "\n",
    "print (saudacao, \", \",nome, \". Seja bem-vindo!\")\n",
    "\n"
   ]
  },
  {
   "cell_type": "code",
   "execution_count": null,
   "id": "a2017eec",
   "metadata": {},
   "outputs": [],
   "source": [
    "\n",
    "# criação de uma lista \n",
    "num_lista = input(\"Digite os números, separados por vírgula: \")\n",
    "numeros = [\n",
    "    int(item.strip()) # strip remove espaços em branco;\n",
    "    for item in num_lista.split(\",\") # split separa a substring;\n",
    "    if item.strip() \n",
    "]\n",
    "print(numeros)"
   ]
  }
 ],
 "metadata": {
  "kernelspec": {
   "display_name": "Python 3",
   "language": "python",
   "name": "python3"
  },
  "language_info": {
   "codemirror_mode": {
    "name": "ipython",
    "version": 3
   },
   "file_extension": ".py",
   "mimetype": "text/x-python",
   "name": "python",
   "nbconvert_exporter": "python",
   "pygments_lexer": "ipython3",
   "version": "3.11.9"
  }
 },
 "nbformat": 4,
 "nbformat_minor": 5
}

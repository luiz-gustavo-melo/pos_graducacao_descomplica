{
 "cells": [
  {
   "cell_type": "code",
   "execution_count": 1,
   "id": "565be0a3",
   "metadata": {},
   "outputs": [
    {
     "name": "stdout",
     "output_type": "stream",
     "text": [
      "Collecting pygal\n",
      "  Downloading pygal-3.0.5-py3-none-any.whl.metadata (3.5 kB)\n",
      "Collecting importlib-metadata (from pygal)\n",
      "  Downloading importlib_metadata-8.7.0-py3-none-any.whl.metadata (4.8 kB)\n",
      "Collecting zipp>=3.20 (from importlib-metadata->pygal)\n",
      "  Downloading zipp-3.23.0-py3-none-any.whl.metadata (3.6 kB)\n",
      "Downloading pygal-3.0.5-py3-none-any.whl (129 kB)\n",
      "   ---------------------------------------- 0.0/129.5 kB ? eta -:--:--\n",
      "   --- ------------------------------------ 10.2/129.5 kB ? eta -:--:--\n",
      "   ------------------------------------- -- 122.9/129.5 kB 1.8 MB/s eta 0:00:01\n",
      "   ---------------------------------------- 129.5/129.5 kB 1.5 MB/s eta 0:00:00\n",
      "Downloading importlib_metadata-8.7.0-py3-none-any.whl (27 kB)\n",
      "Downloading zipp-3.23.0-py3-none-any.whl (10 kB)\n",
      "Installing collected packages: zipp, importlib-metadata, pygal\n",
      "Successfully installed importlib-metadata-8.7.0 pygal-3.0.5 zipp-3.23.0\n",
      "Note: you may need to restart the kernel to use updated packages.\n"
     ]
    },
    {
     "name": "stderr",
     "output_type": "stream",
     "text": [
      "\n",
      "[notice] A new release of pip is available: 24.0 -> 25.2\n",
      "[notice] To update, run: C:\\Users\\Pc\\AppData\\Local\\Microsoft\\WindowsApps\\PythonSoftwareFoundation.Python.3.11_qbz5n2kfra8p0\\python.exe -m pip install --upgrade pip\n"
     ]
    }
   ],
   "source": [
    "pip install pygal"
   ]
  },
  {
   "cell_type": "code",
   "execution_count": 2,
   "id": "c5d55d6d",
   "metadata": {},
   "outputs": [],
   "source": [
    "import pygal"
   ]
  },
  {
   "cell_type": "code",
   "execution_count": 6,
   "id": "b6f20d92",
   "metadata": {},
   "outputs": [],
   "source": [
    "# Gerando gráfico de\n",
    "bar_chat = pygal.Bar()\n",
    "bar_chat.titlle = \"Gráfico de Barras\"\n",
    "bar_chat.x_labels = [\"Categoria1\", \"Categoria2\", \"Categoria3\"]\n",
    "bar_chat.add(\"Values\",[20, 40, 50])\n",
    "bar_chat.render_to_file(\"bar_chart.svg\")\n"
   ]
  },
  {
   "cell_type": "code",
   "execution_count": null,
   "id": "ffeadb9a",
   "metadata": {},
   "outputs": [],
   "source": [
    "# Gerando gráfico de pizza\n",
    "pie_chart = pygal.Pie()\n",
    "pie_chart.titlle = \"Gráfico de pizza\"\n",
    "pie_chart.add(\"Categoria A\", 30)\n",
    "pie_chart.add(\"Categoria B\", 50)\n",
    "pie_chart.add(\"Categoria C\", 70)\n",
    "bar_chat.render_to_file(\"pie_chart.svg\")"
   ]
  },
  {
   "cell_type": "code",
   "execution_count": null,
   "id": "6b344eb8",
   "metadata": {},
   "outputs": [],
   "source": []
  }
 ],
 "metadata": {
  "kernelspec": {
   "display_name": "Python 3",
   "language": "python",
   "name": "python3"
  },
  "language_info": {
   "codemirror_mode": {
    "name": "ipython",
    "version": 3
   },
   "file_extension": ".py",
   "mimetype": "text/x-python",
   "name": "python",
   "nbconvert_exporter": "python",
   "pygments_lexer": "ipython3",
   "version": "3.11.9"
  }
 },
 "nbformat": 4,
 "nbformat_minor": 5
}

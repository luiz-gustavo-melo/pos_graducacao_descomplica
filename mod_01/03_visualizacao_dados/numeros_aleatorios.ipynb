{
 "cells": [
  {
   "cell_type": "code",
   "execution_count": 1,
   "id": "14229178",
   "metadata": {},
   "outputs": [],
   "source": [
    "import random "
   ]
  },
  {
   "cell_type": "code",
   "execution_count": 14,
   "id": "35299240",
   "metadata": {},
   "outputs": [
    {
     "name": "stdout",
     "output_type": "stream",
     "text": [
      "Número aleatório: 22\n"
     ]
    }
   ],
   "source": [
    "rando_int = random.randint(1,100)\n",
    "print(\"Número aleatório:\", rando_int)"
   ]
  },
  {
   "cell_type": "code",
   "execution_count": 30,
   "id": "d2f6e590",
   "metadata": {},
   "outputs": [
    {
     "name": "stdout",
     "output_type": "stream",
     "text": [
      "Lista de números aleatórios: [12, 34, 95, 56, 11, 83, 12, 56, 69, 7]\n"
     ]
    }
   ],
   "source": [
    "rand_list = [random.randint(1,100) for i in range(10)]\n",
    "print(\"Lista de números aleatórios:\", rand_list)"
   ]
  },
  {
   "cell_type": "code",
   "execution_count": 63,
   "id": "33ce06fa",
   "metadata": {},
   "outputs": [
    {
     "name": "stdout",
     "output_type": "stream",
     "text": [
      "Nome aleatório: ['Yasmim']\n"
     ]
    }
   ],
   "source": [
    "names = ['Gustavo', 'Yasmim', 'César', 'Alice']\n",
    "random_nomes = random.sample(names,1)\n",
    "\n",
    "print(\"Nome aleatório:\", random_nomes)"
   ]
  },
  {
   "cell_type": "code",
   "execution_count": null,
   "id": "f3b7a4b5",
   "metadata": {},
   "outputs": [],
   "source": []
  }
 ],
 "metadata": {
  "kernelspec": {
   "display_name": "Python 3",
   "language": "python",
   "name": "python3"
  },
  "language_info": {
   "codemirror_mode": {
    "name": "ipython",
    "version": 3
   },
   "file_extension": ".py",
   "mimetype": "text/x-python",
   "name": "python",
   "nbconvert_exporter": "python",
   "pygments_lexer": "ipython3",
   "version": "3.11.9"
  }
 },
 "nbformat": 4,
 "nbformat_minor": 5
}

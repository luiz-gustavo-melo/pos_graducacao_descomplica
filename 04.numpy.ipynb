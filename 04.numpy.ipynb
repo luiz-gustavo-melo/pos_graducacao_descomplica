{
 "cells": [
  {
   "cell_type": "code",
   "execution_count": 2,
   "id": "33a3df14",
   "metadata": {},
   "outputs": [],
   "source": [
    "import numpy as np"
   ]
  },
  {
   "cell_type": "code",
   "execution_count": 3,
   "id": "c7a49f6b",
   "metadata": {},
   "outputs": [],
   "source": [
    "# criando um array;\n",
    "a = np.array([1,2,3,4,5])"
   ]
  },
  {
   "cell_type": "code",
   "execution_count": 5,
   "id": "b2be72ae",
   "metadata": {},
   "outputs": [
    {
     "name": "stdout",
     "output_type": "stream",
     "text": [
      "Array a= [1 2 3 4 5]\n"
     ]
    }
   ],
   "source": [
    "print(\"Array a=\", a)"
   ]
  },
  {
   "cell_type": "code",
   "execution_count": 7,
   "id": "1dc08cfe",
   "metadata": {},
   "outputs": [
    {
     "name": "stdout",
     "output_type": "stream",
     "text": [
      "Array b= [3 4 5 6 7]\n"
     ]
    }
   ],
   "source": [
    "b = a + 2\n",
    "print(\"Array b=\", b )"
   ]
  },
  {
   "cell_type": "code",
   "execution_count": 9,
   "id": "fe13248b",
   "metadata": {},
   "outputs": [
    {
     "name": "stdout",
     "output_type": "stream",
     "text": [
      "Array c: [ 3  8 15 24 35]\n"
     ]
    }
   ],
   "source": [
    "c = a * b \n",
    "print(\"Array c:\", c)"
   ]
  },
  {
   "cell_type": "code",
   "execution_count": 13,
   "id": "d2962571",
   "metadata": {},
   "outputs": [
    {
     "name": "stdout",
     "output_type": "stream",
     "text": [
      "A média da lista 'c' é: 17.0\n"
     ]
    }
   ],
   "source": [
    "mean = np.mean(c)\n",
    "print(\"A média da lista 'c' é:\", mean)"
   ]
  },
  {
   "cell_type": "code",
   "execution_count": null,
   "id": "9be0f753",
   "metadata": {},
   "outputs": [],
   "source": []
  }
 ],
 "metadata": {
  "kernelspec": {
   "display_name": "Python 3",
   "language": "python",
   "name": "python3"
  },
  "language_info": {
   "codemirror_mode": {
    "name": "ipython",
    "version": 3
   },
   "file_extension": ".py",
   "mimetype": "text/x-python",
   "name": "python",
   "nbconvert_exporter": "python",
   "pygments_lexer": "ipython3",
   "version": "3.11.9"
  }
 },
 "nbformat": 4,
 "nbformat_minor": 5
}

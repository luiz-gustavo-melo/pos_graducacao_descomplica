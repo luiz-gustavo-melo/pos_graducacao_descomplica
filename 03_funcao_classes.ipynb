{
 "cells": [
  {
   "cell_type": "code",
   "execution_count": null,
   "id": "781deb5d",
   "metadata": {},
   "outputs": [
    {
     "name": "stdout",
     "output_type": "stream",
     "text": [
      "Olá, meu nome é Gustavo\n"
     ]
    }
   ],
   "source": [
    "class Pessoa:\n",
    "    def __init__(self, nome, idade):\n",
    "        self.nome = nome\n",
    "        self.idade = idade\n",
    "\n",
    "    def saudacao(self):\n",
    "        return 'Olá, meu nome é ' + self.nome\n",
    "    \n",
    "p1 = Pessoa('Gustavo', '30')\n",
    "\n",
    "print(p1.saudacao())\n",
    "    "
   ]
  },
  {
   "cell_type": "code",
   "execution_count": null,
   "id": "e787a7c6",
   "metadata": {},
   "outputs": [],
   "source": [
    "# variaveis \n",
    "# tipos de dados\n",
    "# estrutura de controle de fluxos\n",
    "# lista\n",
    "# dicionarios\n",
    "# funcoes\n",
    "# classes\n",
    "# versionamento de código\n"
   ]
  }
 ],
 "metadata": {
  "kernelspec": {
   "display_name": "Python 3",
   "language": "python",
   "name": "python3"
  },
  "language_info": {
   "codemirror_mode": {
    "name": "ipython",
    "version": 3
   },
   "file_extension": ".py",
   "mimetype": "text/x-python",
   "name": "python",
   "nbconvert_exporter": "python",
   "pygments_lexer": "ipython3",
   "version": "3.11.9"
  }
 },
 "nbformat": 4,
 "nbformat_minor": 5
}

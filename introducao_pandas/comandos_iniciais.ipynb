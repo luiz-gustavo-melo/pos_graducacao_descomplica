{
 "cells": [
  {
   "cell_type": "code",
   "execution_count": 5,
   "id": "91a9cc9a",
   "metadata": {},
   "outputs": [],
   "source": [
    "import pandas as pd"
   ]
  },
  {
   "cell_type": "code",
   "execution_count": 6,
   "id": "8faab2eb",
   "metadata": {},
   "outputs": [
    {
     "data": {
      "text/html": [
       "<div>\n",
       "<style scoped>\n",
       "    .dataframe tbody tr th:only-of-type {\n",
       "        vertical-align: middle;\n",
       "    }\n",
       "\n",
       "    .dataframe tbody tr th {\n",
       "        vertical-align: top;\n",
       "    }\n",
       "\n",
       "    .dataframe thead th {\n",
       "        text-align: right;\n",
       "    }\n",
       "</style>\n",
       "<table border=\"1\" class=\"dataframe\">\n",
       "  <thead>\n",
       "    <tr style=\"text-align: right;\">\n",
       "      <th></th>\n",
       "      <th>tenis</th>\n",
       "      <th>marca</th>\n",
       "      <th>corrida_realizada</th>\n",
       "      <th>distancia</th>\n",
       "      <th>valor</th>\n",
       "    </tr>\n",
       "  </thead>\n",
       "  <tbody>\n",
       "    <tr>\n",
       "      <th>0</th>\n",
       "      <td>Fila Racer Carbon 2</td>\n",
       "      <td>Fila</td>\n",
       "      <td>Maratona Rio de Janeiro</td>\n",
       "      <td>42.195km</td>\n",
       "      <td>800</td>\n",
       "    </tr>\n",
       "    <tr>\n",
       "      <th>1</th>\n",
       "      <td>Adidas Duramo Speed</td>\n",
       "      <td>Adidas</td>\n",
       "      <td>Meia Maratona Aniversário de Brasília</td>\n",
       "      <td>21km</td>\n",
       "      <td>400</td>\n",
       "    </tr>\n",
       "    <tr>\n",
       "      <th>2</th>\n",
       "      <td>Olympikus Corre Grafeno</td>\n",
       "      <td>Olimpikus</td>\n",
       "      <td>Circuito de Corridas Banco do Brasil</td>\n",
       "      <td>10km</td>\n",
       "      <td>600</td>\n",
       "    </tr>\n",
       "  </tbody>\n",
       "</table>\n",
       "</div>"
      ],
      "text/plain": [
       "                     tenis      marca                      corrida_realizada  \\\n",
       "0      Fila Racer Carbon 2       Fila                Maratona Rio de Janeiro   \n",
       "1      Adidas Duramo Speed     Adidas  Meia Maratona Aniversário de Brasília   \n",
       "2  Olympikus Corre Grafeno  Olimpikus   Circuito de Corridas Banco do Brasil   \n",
       "\n",
       "  distancia  valor  \n",
       "0  42.195km    800  \n",
       "1      21km    400  \n",
       "2      10km    600  "
      ]
     },
     "execution_count": 6,
     "metadata": {},
     "output_type": "execute_result"
    }
   ],
   "source": [
    "corridas = {\n",
    "\n",
    "    \"tenis\":[\"Fila Racer Carbon 2\", \"Adidas Duramo Speed\", \"Olympikus Corre Grafeno\"],\n",
    "    \"marca\": [\"Fila\", \"Adidas\",\"Olimpikus\"],\n",
    "    \"corrida_realizada\": [\"Maratona Rio de Janeiro\", \"Meia Maratona Aniversário de Brasília\",\"Circuito de Corridas Banco do Brasil\"],\n",
    "    \"distancia\": [\"42.195km\", \"21km\", \"10km\"],\n",
    "    \"valor\": [800, 400, 600]\n",
    "}\n",
    "\n",
    "corridas = pd.DataFrame(corridas)\n",
    "corridas"
   ]
  },
  {
   "cell_type": "code",
   "execution_count": 7,
   "id": "c6466b27",
   "metadata": {},
   "outputs": [
    {
     "data": {
      "text/plain": [
       "tenis                    Fila Racer Carbon 2\n",
       "marca                                   Fila\n",
       "corrida_realizada    Maratona Rio de Janeiro\n",
       "distancia                           42.195km\n",
       "valor                                    800\n",
       "Name: 0, dtype: object"
      ]
     },
     "execution_count": 7,
     "metadata": {},
     "output_type": "execute_result"
    }
   ],
   "source": [
    "# acessando linha específica;\n",
    "corridas.loc[0]"
   ]
  },
  {
   "cell_type": "code",
   "execution_count": 8,
   "id": "ab988ca8",
   "metadata": {},
   "outputs": [
    {
     "data": {
      "text/html": [
       "<div>\n",
       "<style scoped>\n",
       "    .dataframe tbody tr th:only-of-type {\n",
       "        vertical-align: middle;\n",
       "    }\n",
       "\n",
       "    .dataframe tbody tr th {\n",
       "        vertical-align: top;\n",
       "    }\n",
       "\n",
       "    .dataframe thead th {\n",
       "        text-align: right;\n",
       "    }\n",
       "</style>\n",
       "<table border=\"1\" class=\"dataframe\">\n",
       "  <thead>\n",
       "    <tr style=\"text-align: right;\">\n",
       "      <th></th>\n",
       "      <th>tenis</th>\n",
       "      <th>marca</th>\n",
       "      <th>corrida_realizada</th>\n",
       "      <th>distancia</th>\n",
       "      <th>valor</th>\n",
       "      <th>valor_inscricao</th>\n",
       "    </tr>\n",
       "  </thead>\n",
       "  <tbody>\n",
       "    <tr>\n",
       "      <th>0</th>\n",
       "      <td>Fila Racer Carbon 2</td>\n",
       "      <td>Fila</td>\n",
       "      <td>Maratona Rio de Janeiro</td>\n",
       "      <td>42.195km</td>\n",
       "      <td>800</td>\n",
       "      <td>470</td>\n",
       "    </tr>\n",
       "    <tr>\n",
       "      <th>1</th>\n",
       "      <td>Adidas Duramo Speed</td>\n",
       "      <td>Adidas</td>\n",
       "      <td>Meia Maratona Aniversário de Brasília</td>\n",
       "      <td>21km</td>\n",
       "      <td>400</td>\n",
       "      <td>70</td>\n",
       "    </tr>\n",
       "    <tr>\n",
       "      <th>2</th>\n",
       "      <td>Olympikus Corre Grafeno</td>\n",
       "      <td>Olimpikus</td>\n",
       "      <td>Circuito de Corridas Banco do Brasil</td>\n",
       "      <td>10km</td>\n",
       "      <td>600</td>\n",
       "      <td>80</td>\n",
       "    </tr>\n",
       "  </tbody>\n",
       "</table>\n",
       "</div>"
      ],
      "text/plain": [
       "                     tenis      marca                      corrida_realizada  \\\n",
       "0      Fila Racer Carbon 2       Fila                Maratona Rio de Janeiro   \n",
       "1      Adidas Duramo Speed     Adidas  Meia Maratona Aniversário de Brasília   \n",
       "2  Olympikus Corre Grafeno  Olimpikus   Circuito de Corridas Banco do Brasil   \n",
       "\n",
       "  distancia  valor  valor_inscricao  \n",
       "0  42.195km    800              470  \n",
       "1      21km    400               70  \n",
       "2      10km    600               80  "
      ]
     },
     "execution_count": 8,
     "metadata": {},
     "output_type": "execute_result"
    }
   ],
   "source": [
    "\n",
    "# adicionando nova coluna ao dataframe;\n",
    "corridas['valor_inscricao'] = [470, 70, 80]\n",
    "corridas"
   ]
  },
  {
   "cell_type": "code",
   "execution_count": 11,
   "id": "77e4a651",
   "metadata": {},
   "outputs": [
    {
     "data": {
      "text/html": [
       "<div>\n",
       "<style scoped>\n",
       "    .dataframe tbody tr th:only-of-type {\n",
       "        vertical-align: middle;\n",
       "    }\n",
       "\n",
       "    .dataframe tbody tr th {\n",
       "        vertical-align: top;\n",
       "    }\n",
       "\n",
       "    .dataframe thead th {\n",
       "        text-align: right;\n",
       "    }\n",
       "</style>\n",
       "<table border=\"1\" class=\"dataframe\">\n",
       "  <thead>\n",
       "    <tr style=\"text-align: right;\">\n",
       "      <th></th>\n",
       "      <th>tenis</th>\n",
       "      <th>marca</th>\n",
       "      <th>corrida_realizada</th>\n",
       "      <th>distancia_km</th>\n",
       "      <th>valor</th>\n",
       "      <th>valor_inscricao</th>\n",
       "    </tr>\n",
       "  </thead>\n",
       "  <tbody>\n",
       "    <tr>\n",
       "      <th>0</th>\n",
       "      <td>Fila Racer Carbon 2</td>\n",
       "      <td>Fila</td>\n",
       "      <td>Maratona Rio de Janeiro</td>\n",
       "      <td>42.195km</td>\n",
       "      <td>800</td>\n",
       "      <td>470</td>\n",
       "    </tr>\n",
       "    <tr>\n",
       "      <th>1</th>\n",
       "      <td>Adidas Duramo Speed</td>\n",
       "      <td>Adidas</td>\n",
       "      <td>Meia Maratona Aniversário de Brasília</td>\n",
       "      <td>21km</td>\n",
       "      <td>400</td>\n",
       "      <td>70</td>\n",
       "    </tr>\n",
       "    <tr>\n",
       "      <th>2</th>\n",
       "      <td>Olympikus Corre Grafeno</td>\n",
       "      <td>Olimpikus</td>\n",
       "      <td>Circuito de Corridas Banco do Brasil</td>\n",
       "      <td>10km</td>\n",
       "      <td>600</td>\n",
       "      <td>80</td>\n",
       "    </tr>\n",
       "  </tbody>\n",
       "</table>\n",
       "</div>"
      ],
      "text/plain": [
       "                     tenis      marca                      corrida_realizada  \\\n",
       "0      Fila Racer Carbon 2       Fila                Maratona Rio de Janeiro   \n",
       "1      Adidas Duramo Speed     Adidas  Meia Maratona Aniversário de Brasília   \n",
       "2  Olympikus Corre Grafeno  Olimpikus   Circuito de Corridas Banco do Brasil   \n",
       "\n",
       "  distancia_km  valor  valor_inscricao  \n",
       "0     42.195km    800              470  \n",
       "1         21km    400               70  \n",
       "2         10km    600               80  "
      ]
     },
     "execution_count": 11,
     "metadata": {},
     "output_type": "execute_result"
    }
   ],
   "source": [
    "# renomeando coluna\n",
    "corridas.rename(columns={'distancia': 'distancia_km'})\n",
    "corridas"
   ]
  },
  {
   "cell_type": "code",
   "execution_count": null,
   "id": "4fa39c1c",
   "metadata": {},
   "outputs": [],
   "source": []
  }
 ],
 "metadata": {
  "kernelspec": {
   "display_name": "Python 3",
   "language": "python",
   "name": "python3"
  },
  "language_info": {
   "codemirror_mode": {
    "name": "ipython",
    "version": 3
   },
   "file_extension": ".py",
   "mimetype": "text/x-python",
   "name": "python",
   "nbconvert_exporter": "python",
   "pygments_lexer": "ipython3",
   "version": "3.11.9"
  }
 },
 "nbformat": 4,
 "nbformat_minor": 5
}

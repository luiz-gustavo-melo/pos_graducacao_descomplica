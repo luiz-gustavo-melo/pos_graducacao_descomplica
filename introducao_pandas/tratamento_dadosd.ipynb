{
 "cells": [
  {
   "cell_type": "code",
   "execution_count": 16,
   "id": "895d7cf2",
   "metadata": {},
   "outputs": [],
   "source": [
    "\n",
    "import pandas as pd\n",
    "from pathlib import Path\n"
   ]
  },
  {
   "cell_type": "code",
   "execution_count": 28,
   "id": "bbe0a3e7",
   "metadata": {},
   "outputs": [
    {
     "name": "stdout",
     "output_type": "stream",
     "text": [
      "    ano tipo_localizacao       rede        modalidade  grupo  \\\n",
      "0  2016            total      total  educacaoinfantil      1   \n",
      "1  2016            rural  municipal  educacaoinfantil      4   \n",
      "2  2016           urbana  municipal  educacaoinfantil      4   \n",
      "3  2016            total  municipal  educacaoinfantil      4   \n",
      "4  2016            rural   estadual  educacaoinfantil      4   \n",
      "\n",
      "           percentual  \n",
      "0                46.6  \n",
      "1                 2.2  \n",
      "2  3.8000000000000003  \n",
      "3                 3.6  \n",
      "4                 3.2  \n"
     ]
    }
   ],
   "source": [
    "# lendo arquivo csv\n",
    "caminho = Path(r'C:\\Users\\Pc\\Documents\\curso-python-faculdade\\introducao_pandas\\br_inep_formacao_docente_brasil.csv')\n",
    "\n",
    "\n",
    "# Lendo o CSV;\n",
    "df = pd.read_csv(caminho)\n",
    "\n",
    "# ler as 5 primeiras linha do data frame;\n",
    "print(df.head())"
   ]
  },
  {
   "cell_type": "code",
   "execution_count": 29,
   "id": "b4459624",
   "metadata": {},
   "outputs": [
    {
     "name": "stdout",
     "output_type": "stream",
     "text": [
      "       ano tipo_localizacao      rede        modalidade  grupo percentual\n",
      "5035  2018           urbana  estadual  ensinomediototal      2        2.1\n",
      "5036  2018            total  estadual  ensinomediototal      2        2.1\n",
      "5037  2018            rural   federal  ensinomediototal      2        8.5\n",
      "5038  2018           urbana  estadual  ensinomediototal      3       25.7\n",
      "5039  2018            rural   pública  ensinomediototal      5       11.1\n"
     ]
    }
   ],
   "source": [
    "# lendo as 5 últimas linhas do data frame;\n",
    "print(df.tail())"
   ]
  },
  {
   "cell_type": "code",
   "execution_count": 30,
   "id": "cc716dad",
   "metadata": {},
   "outputs": [
    {
     "name": "stdout",
     "output_type": "stream",
     "text": [
      "<class 'pandas.core.frame.DataFrame'>\n",
      "RangeIndex: 5040 entries, 0 to 5039\n",
      "Data columns (total 6 columns):\n",
      " #   Column            Non-Null Count  Dtype \n",
      "---  ------            --------------  ----- \n",
      " 0   ano               5040 non-null   int64 \n",
      " 1   tipo_localizacao  5040 non-null   object\n",
      " 2   rede              5040 non-null   object\n",
      " 3   modalidade        5040 non-null   object\n",
      " 4   grupo             5040 non-null   int64 \n",
      " 5   percentual        5040 non-null   object\n",
      "dtypes: int64(2), object(4)\n",
      "memory usage: 236.4+ KB\n",
      "None\n"
     ]
    }
   ],
   "source": [
    "# analisando tamanho e tipos das colunas do data frame;\n",
    "print(df.info())"
   ]
  },
  {
   "cell_type": "code",
   "execution_count": 31,
   "id": "d90bc68f",
   "metadata": {},
   "outputs": [
    {
     "name": "stdout",
     "output_type": "stream",
     "text": [
      "               ano        grupo\n",
      "count  5040.000000  5040.000000\n",
      "mean   2016.500000     3.000000\n",
      "std       2.291515     1.414354\n",
      "min    2013.000000     1.000000\n",
      "25%    2014.750000     2.000000\n",
      "50%    2016.500000     3.000000\n",
      "75%    2018.250000     4.000000\n",
      "max    2020.000000     5.000000\n"
     ]
    }
   ],
   "source": [
    "# informações gerenciais de todas as colunas numéricas;\n",
    "print(df.describe())"
   ]
  },
  {
   "cell_type": "code",
   "execution_count": 36,
   "id": "34aae665",
   "metadata": {},
   "outputs": [
    {
     "data": {
      "text/html": [
       "<div>\n",
       "<style scoped>\n",
       "    .dataframe tbody tr th:only-of-type {\n",
       "        vertical-align: middle;\n",
       "    }\n",
       "\n",
       "    .dataframe tbody tr th {\n",
       "        vertical-align: top;\n",
       "    }\n",
       "\n",
       "    .dataframe thead th {\n",
       "        text-align: right;\n",
       "    }\n",
       "</style>\n",
       "<table border=\"1\" class=\"dataframe\">\n",
       "  <thead>\n",
       "    <tr style=\"text-align: right;\">\n",
       "      <th></th>\n",
       "      <th>ano</th>\n",
       "      <th>tipo_localizacao</th>\n",
       "      <th>rede</th>\n",
       "      <th>modalidade</th>\n",
       "      <th>grupo</th>\n",
       "      <th>percentual</th>\n",
       "    </tr>\n",
       "  </thead>\n",
       "  <tbody>\n",
       "    <tr>\n",
       "      <th>3923</th>\n",
       "      <td>2020</td>\n",
       "      <td>rural</td>\n",
       "      <td>municipal</td>\n",
       "      <td>ejaensinofundamental</td>\n",
       "      <td>1</td>\n",
       "      <td>9.9</td>\n",
       "    </tr>\n",
       "    <tr>\n",
       "      <th>2264</th>\n",
       "      <td>2015</td>\n",
       "      <td>urbana</td>\n",
       "      <td>privada</td>\n",
       "      <td>ensinofundamentalanosiniciais</td>\n",
       "      <td>3</td>\n",
       "      <td>9.9</td>\n",
       "    </tr>\n",
       "    <tr>\n",
       "      <th>4446</th>\n",
       "      <td>2018</td>\n",
       "      <td>urbana</td>\n",
       "      <td>federal</td>\n",
       "      <td>educacaoinfantil</td>\n",
       "      <td>5</td>\n",
       "      <td>9.9</td>\n",
       "    </tr>\n",
       "    <tr>\n",
       "      <th>4860</th>\n",
       "      <td>2018</td>\n",
       "      <td>urbana</td>\n",
       "      <td>pública</td>\n",
       "      <td>ensinofundamentaltotal</td>\n",
       "      <td>5</td>\n",
       "      <td>9.9</td>\n",
       "    </tr>\n",
       "    <tr>\n",
       "      <th>1692</th>\n",
       "      <td>2013</td>\n",
       "      <td>rural</td>\n",
       "      <td>total</td>\n",
       "      <td>ensinofundamentalanosiniciais</td>\n",
       "      <td>3</td>\n",
       "      <td>9.9</td>\n",
       "    </tr>\n",
       "    <tr>\n",
       "      <th>...</th>\n",
       "      <td>...</td>\n",
       "      <td>...</td>\n",
       "      <td>...</td>\n",
       "      <td>...</td>\n",
       "      <td>...</td>\n",
       "      <td>...</td>\n",
       "    </tr>\n",
       "    <tr>\n",
       "      <th>804</th>\n",
       "      <td>2014</td>\n",
       "      <td>rural</td>\n",
       "      <td>federal</td>\n",
       "      <td>ejaensinofundamental</td>\n",
       "      <td>2</td>\n",
       "      <td>--</td>\n",
       "    </tr>\n",
       "    <tr>\n",
       "      <th>132</th>\n",
       "      <td>2016</td>\n",
       "      <td>rural</td>\n",
       "      <td>federal</td>\n",
       "      <td>ejaensinofundamental</td>\n",
       "      <td>5</td>\n",
       "      <td>--</td>\n",
       "    </tr>\n",
       "    <tr>\n",
       "      <th>674</th>\n",
       "      <td>2014</td>\n",
       "      <td>rural</td>\n",
       "      <td>federal</td>\n",
       "      <td>educacaoinfantil</td>\n",
       "      <td>3</td>\n",
       "      <td>--</td>\n",
       "    </tr>\n",
       "    <tr>\n",
       "      <th>1374</th>\n",
       "      <td>2013</td>\n",
       "      <td>rural</td>\n",
       "      <td>federal</td>\n",
       "      <td>ejaensinofundamental</td>\n",
       "      <td>5</td>\n",
       "      <td>--</td>\n",
       "    </tr>\n",
       "    <tr>\n",
       "      <th>633</th>\n",
       "      <td>2014</td>\n",
       "      <td>rural</td>\n",
       "      <td>federal</td>\n",
       "      <td>educacaoinfantil</td>\n",
       "      <td>4</td>\n",
       "      <td>--</td>\n",
       "    </tr>\n",
       "  </tbody>\n",
       "</table>\n",
       "<p>5040 rows × 6 columns</p>\n",
       "</div>"
      ],
      "text/plain": [
       "       ano tipo_localizacao       rede                     modalidade  grupo  \\\n",
       "3923  2020            rural  municipal           ejaensinofundamental      1   \n",
       "2264  2015           urbana    privada  ensinofundamentalanosiniciais      3   \n",
       "4446  2018           urbana    federal               educacaoinfantil      5   \n",
       "4860  2018           urbana    pública         ensinofundamentaltotal      5   \n",
       "1692  2013            rural      total  ensinofundamentalanosiniciais      3   \n",
       "...    ...              ...        ...                            ...    ...   \n",
       "804   2014            rural    federal           ejaensinofundamental      2   \n",
       "132   2016            rural    federal           ejaensinofundamental      5   \n",
       "674   2014            rural    federal               educacaoinfantil      3   \n",
       "1374  2013            rural    federal           ejaensinofundamental      5   \n",
       "633   2014            rural    federal               educacaoinfantil      4   \n",
       "\n",
       "     percentual  \n",
       "3923        9.9  \n",
       "2264        9.9  \n",
       "4446        9.9  \n",
       "4860        9.9  \n",
       "1692        9.9  \n",
       "...         ...  \n",
       "804          --  \n",
       "132          --  \n",
       "674          --  \n",
       "1374         --  \n",
       "633          --  \n",
       "\n",
       "[5040 rows x 6 columns]"
      ]
     },
     "execution_count": 36,
     "metadata": {},
     "output_type": "execute_result"
    }
   ],
   "source": [
    "# ordenar data frame por uma coluna\n",
    "df_ordenado = df.sort_values('percentual', ascending=False)\n",
    "df_ordenado\n"
   ]
  },
  {
   "cell_type": "code",
   "execution_count": null,
   "id": "3fcd8f1f",
   "metadata": {},
   "outputs": [],
   "source": []
  }
 ],
 "metadata": {
  "kernelspec": {
   "display_name": "Python 3",
   "language": "python",
   "name": "python3"
  },
  "language_info": {
   "codemirror_mode": {
    "name": "ipython",
    "version": 3
   },
   "file_extension": ".py",
   "mimetype": "text/x-python",
   "name": "python",
   "nbconvert_exporter": "python",
   "pygments_lexer": "ipython3",
   "version": "3.11.9"
  }
 },
 "nbformat": 4,
 "nbformat_minor": 5
}

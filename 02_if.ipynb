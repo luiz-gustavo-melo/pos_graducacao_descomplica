{
 "cells": [
  {
   "cell_type": "code",
   "execution_count": null,
   "id": "2e715a35",
   "metadata": {},
   "outputs": [
    {
     "name": "stdout",
     "output_type": "stream",
     "text": [
      "Seja bem-vinde, Pabllo Vittar. Deux te abençoe!\n"
     ]
    }
   ],
   "source": [
    "# digitar o nome\n",
    "# digitar o genero (M e F)\n",
    "# saudacao será de acordo com o genero digitado;\n",
    "\n",
    "nome = input(\"Digite seu nome para saudação: \")\n",
    "genero = input(\"Digite seu genero(M ou F ou NB): \")\n",
    "\n",
    "if genero == \"F\":\n",
    "    print(\"Seja bem-vinda, \" + nome + \". Deus te abençoe!\")\n",
    "elif genero == \"NB\":\n",
    "    print(\"Seja bem-vinde, \" + nome + \". Deus te abençoe!\") \n",
    "else: \n",
    "    print(\"Seja bem-vindo, \" + nome + \". Deus te abençoe!\")\n"
   ]
  }
 ],
 "metadata": {
  "kernelspec": {
   "display_name": "Python 3",
   "language": "python",
   "name": "python3"
  },
  "language_info": {
   "codemirror_mode": {
    "name": "ipython",
    "version": 3
   },
   "file_extension": ".py",
   "mimetype": "text/x-python",
   "name": "python",
   "nbconvert_exporter": "python",
   "pygments_lexer": "ipython3",
   "version": "3.11.9"
  }
 },
 "nbformat": 4,
 "nbformat_minor": 5
}

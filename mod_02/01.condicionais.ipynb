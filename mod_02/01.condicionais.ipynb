{
 "cells": [
  {
   "cell_type": "markdown",
   "id": "e6b7501d",
   "metadata": {},
   "source": [
    "if / else\n",
    "switch case(Match)\n",
    "MATernários"
   ]
  },
  {
   "cell_type": "code",
   "execution_count": null,
   "id": "0a265218",
   "metadata": {},
   "outputs": [
    {
     "name": "stdout",
     "output_type": "stream",
     "text": [
      "Você é maior de idade\n"
     ]
    }
   ],
   "source": [
    "# if  / else\n",
    "MAIORIDADE = 18\n",
    "idade = int(input(\"Digite sua idade: \"))\n",
    "\n",
    "if idade >= MAIORIDADE:\n",
    "    print(\"Você é maior de idade\")\n",
    "else:\n",
    "    print(\"Você é menor de idade\")\n",
    "\n"
   ]
  },
  {
   "cell_type": "code",
   "execution_count": null,
   "id": "63c346bb",
   "metadata": {},
   "outputs": [
    {
     "name": "stdout",
     "output_type": "stream",
     "text": [
      "É Gustavo!\n"
     ]
    }
   ],
   "source": [
    "# switch / case \n",
    "\n",
    "nome = \"Gustavo\"\n",
    "match nome:\n",
    "    case \"Yasmim\":\n",
    "        print(\"É Yasmim, não Gustavo\")\n",
    "    case \"Paulin\":\n",
    "        print(\"Não é Gustavo\")\n",
    "    case \"Gustavo\":\n",
    "        print(\"É Gustavo!\")"
   ]
  },
  {
   "cell_type": "code",
   "execution_count": null,
   "id": "4a4311e1",
   "metadata": {},
   "outputs": [
    {
     "name": "stdout",
     "output_type": "stream",
     "text": [
      "É Maior de idade\n",
      "Digite seu título de eleitor\n"
     ]
    }
   ],
   "source": [
    "# teste\n",
    "from datetime import date\n",
    "\n",
    "ano_atual = date.today().year\n",
    "ano_nascimento = int(input(\"Digite o ano do seu nascimento: \"))\n",
    "idade = ano_atual - ano_nascimento\n",
    "\n",
    "if idade >= 18:\n",
    "    print(\"É Maior de idade\")\n",
    "    print(\"Digite seu título de eleitor\")\n",
    "else:\n",
    "    print(\"É menor de idade\")\n",
    "    print(\"Digite o documento do responsável\")\n",
    "\n",
    "\n"
   ]
  },
  {
   "cell_type": "code",
   "execution_count": null,
   "id": "f5bb83e3",
   "metadata": {},
   "outputs": [],
   "source": []
  }
 ],
 "metadata": {
  "kernelspec": {
   "display_name": "Python 3",
   "language": "python",
   "name": "python3"
  },
  "language_info": {
   "codemirror_mode": {
    "name": "ipython",
    "version": 3
   },
   "file_extension": ".py",
   "mimetype": "text/x-python",
   "name": "python",
   "nbconvert_exporter": "python",
   "pygments_lexer": "ipython3",
   "version": "3.11.9"
  }
 },
 "nbformat": 4,
 "nbformat_minor": 5
}

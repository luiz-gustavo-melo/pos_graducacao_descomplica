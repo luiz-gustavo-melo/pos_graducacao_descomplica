{
 "cells": [
  {
   "cell_type": "markdown",
   "id": "092ee0c3",
   "metadata": {},
   "source": [
    "# Laços de repetição\n",
    "\n",
    "- while\n",
    "- for"
   ]
  },
  {
   "cell_type": "code",
   "execution_count": 1,
   "id": "c1f69404",
   "metadata": {},
   "outputs": [
    {
     "name": "stdout",
     "output_type": "stream",
     "text": [
      "teste\n",
      "teste\n",
      "teste\n",
      "teste\n",
      "teste\n",
      "teste\n",
      "teste\n",
      "teste\n",
      "teste\n",
      "teste\n"
     ]
    }
   ],
   "source": [
    "a = 1 \n",
    "\n",
    "while a <= 10:\n",
    "    print(\"teste\")\n",
    "    a += 1"
   ]
  },
  {
   "cell_type": "code",
   "execution_count": 1,
   "id": "f6aee48f",
   "metadata": {},
   "outputs": [
    {
     "name": "stdout",
     "output_type": "stream",
     "text": [
      "0\n",
      "1\n",
      "2\n",
      "3\n",
      "4\n"
     ]
    }
   ],
   "source": [
    "for a in range(5):\n",
    "    print(a)"
   ]
  },
  {
   "cell_type": "code",
   "execution_count": 39,
   "id": "3bf5a2c2",
   "metadata": {},
   "outputs": [
    {
     "name": "stdout",
     "output_type": "stream",
     "text": [
      "0 Yasmim 6\n",
      "1 Gustavo 7\n",
      "2 César 5\n"
     ]
    }
   ],
   "source": [
    "a = [\"Yasmim\", \"Gustavo\", \"César\"]\n",
    "\n",
    "for a, b in enumerate(a):\n",
    "    print(a, b, len(b))"
   ]
  },
  {
   "cell_type": "code",
   "execution_count": 8,
   "id": "d2f7fc56",
   "metadata": {},
   "outputs": [
    {
     "name": "stdout",
     "output_type": "stream",
     "text": [
      "G\n",
      "u\n",
      "s\n",
      "t\n",
      "a\n",
      "v\n",
      "o\n"
     ]
    }
   ],
   "source": [
    "a = \"Gustavo\"\n",
    "\n",
    "for a in a:\n",
    "    print(a)"
   ]
  },
  {
   "cell_type": "code",
   "execution_count": null,
   "id": "97f535cf",
   "metadata": {},
   "outputs": [
    {
     "name": "stdout",
     "output_type": "stream",
     "text": [
      "['Luiz', 'Yasmim', 'César']\n"
     ]
    }
   ],
   "source": [
    "# variáveis;\n",
    "a = []\n",
    "b = 1\n",
    "\n",
    "# criação de uma lista expandida;\n",
    "# laço de repetição, usuário digita nome;\n",
    "while b <= 3:\n",
    "    a.append(input(\"Digite um nome: \"))\n",
    "    b += 1\n",
    "\n",
    "print(a)"
   ]
  },
  {
   "cell_type": "code",
   "execution_count": null,
   "id": "43aacc15",
   "metadata": {},
   "outputs": [
    {
     "name": "stdout",
     "output_type": "stream",
     "text": [
      "['Luiz', 'Yasmim']\n",
      "['Luiz', 'César', 'Yasmim']\n",
      "['Luiz', 'Yasmim']\n"
     ]
    }
   ],
   "source": [
    "# criação da lista;\n",
    "a = [\"Luiz\", \"Yasmim\"]\n",
    "print(a)\n",
    "\n",
    "# inserção de uma informação na posicção x;\n",
    "a.insert(1, \"César\")\n",
    "print(a)\n",
    "\n",
    "# remoção de informação~;\n",
    "a.remove(\"César\")\n",
    "print(a)"
   ]
  },
  {
   "cell_type": "code",
   "execution_count": 1,
   "id": "6a7e579f",
   "metadata": {},
   "outputs": [
    {
     "name": "stdout",
     "output_type": "stream",
     "text": [
      "[{'nome': 'yasmim', 'cpf': '234', 'email': 'yasmim@email.com', 'matricula': '345'}]\n"
     ]
    }
   ],
   "source": [
    "# desafio\n",
    "\n",
    "alunos = []\n",
    "b = 1\n",
    "\n",
    "while b <= 2:\n",
    "    nome        = input(\"Digite o nome do aluno: \"  )\n",
    "    cpf         = input(\"Digite o cpf do aluno: \"   )\n",
    "    email       = input(\"Digite o email do aluno: \" )\n",
    "    matricula   = input(\"Digite a matrícula do aluno: \")\n",
    "\n",
    "    b += 1\n",
    "\n",
    "aluno = {\n",
    "    \"nome\": nome,\n",
    "    \"cpf\": cpf,\n",
    "    \"email\": email,\n",
    "    \"matricula\": matricula\n",
    "    }\n",
    "\n",
    "alunos.append(aluno)\n",
    "\n",
    "print(alunos)"
   ]
  },
  {
   "cell_type": "code",
   "execution_count": 30,
   "id": "a8af9d6f",
   "metadata": {},
   "outputs": [
    {
     "name": "stdout",
     "output_type": "stream",
     "text": [
      "luiz você está de recuperação!\n",
      "yas você foi aprovado!! Parabéns\n"
     ]
    }
   ],
   "source": [
    "from random import randint\n",
    "\n",
    "qtd_alunos = 1\n",
    "alunos = []\n",
    "\n",
    "while qtd_alunos <= 2:\n",
    "    nome = input(\"Digite o nome do aluno: \")\n",
    "    cpf = randint(10000000000, 999999999999)\n",
    "    email = input(\"Digite o email do aluno: \")\n",
    "    matricula = randint(0, 9)\n",
    "\n",
    "    notas = []\n",
    "    for i in range(1, 4):\n",
    "        nota = float(input(f\"Digite a nota {i} do aluno: \"))\n",
    "        notas.append(nota)\n",
    "\n",
    "    alunos.append({\n",
    "        \"nome\": nome,\n",
    "        \"cpf\": cpf,\n",
    "        \"email\": email,\n",
    "        \"matricula\": matricula,\n",
    "        \"notas\": notas\n",
    "    })\n",
    "\n",
    "    qtd_alunos += 1\n",
    "\n",
    "for aluno in alunos:\n",
    "    soma = sum(aluno[\"notas\"])\n",
    "    media = soma / len(aluno[\"notas\"])\n",
    "    # print(f'{aluno[\"nome\"]} - Média: {media:.2f}')\n",
    "\n",
    "    if media >= 6:\n",
    "        print(f'{aluno[\"nome\"]} você foi aprovado!! Parabéns')\n",
    "    else:\n",
    "        print(f'{aluno[\"nome\"]} você está de recuperação!')"
   ]
  },
  {
   "cell_type": "code",
   "execution_count": null,
   "id": "e48f6b35",
   "metadata": {},
   "outputs": [],
   "source": []
  }
 ],
 "metadata": {
  "kernelspec": {
   "display_name": "Python 3",
   "language": "python",
   "name": "python3"
  },
  "language_info": {
   "codemirror_mode": {
    "name": "ipython",
    "version": 3
   },
   "file_extension": ".py",
   "mimetype": "text/x-python",
   "name": "python",
   "nbconvert_exporter": "python",
   "pygments_lexer": "ipython3",
   "version": "3.11.9"
  }
 },
 "nbformat": 4,
 "nbformat_minor": 5
}

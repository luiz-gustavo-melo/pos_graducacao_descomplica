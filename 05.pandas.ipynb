{
 "cells": [
  {
   "cell_type": "code",
   "execution_count": 1,
   "id": "3c21ffa8",
   "metadata": {},
   "outputs": [],
   "source": [
    "import pandas as pd"
   ]
  },
  {
   "cell_type": "code",
   "execution_count": 3,
   "id": "96267653",
   "metadata": {},
   "outputs": [
    {
     "name": "stdout",
     "output_type": "stream",
     "text": [
      "0    1\n",
      "1    2\n",
      "2    3\n",
      "3    4\n",
      "4    5\n",
      "dtype: int64\n"
     ]
    }
   ],
   "source": [
    "lista = [1, 2, 3, 4, 5]\n",
    "\n",
    "serie = pd.Series(lista)\n",
    "\n",
    "print(serie)\n"
   ]
  },
  {
   "cell_type": "code",
   "execution_count": 19,
   "id": "db033d2d",
   "metadata": {},
   "outputs": [
    {
     "name": "stdout",
     "output_type": "stream",
     "text": [
      "      Nome  Idade          Profissão\n",
      "0   Yasmim     26         Concursada\n",
      "1  Gustavo     27  Sr. Data Engineer\n",
      "2    Alice      0            Criança\n",
      "3    César      0            Criança\n"
     ]
    }
   ],
   "source": [
    "dicionario = {\n",
    "    \"Nome\":[\"Yasmim\", \"Gustavo\", \"Alice\", \"César\"],\n",
    "    \"Idade\":[26,27,0,0],\n",
    "    \"Profissão\":[\"Concursada\", \"Sr. Data Engineer\", \"Criança\", \"Criança\"]}\n",
    "\n",
    "df = pd.DataFrame(dicionario)\n",
    "print(df)\n",
    "\n",
    "# print(dicionario[\"Nome\"])"
   ]
  },
  {
   "cell_type": "code",
   "execution_count": null,
   "id": "fad4fe19",
   "metadata": {},
   "outputs": [],
   "source": []
  }
 ],
 "metadata": {
  "kernelspec": {
   "display_name": "Python 3",
   "language": "python",
   "name": "python3"
  },
  "language_info": {
   "codemirror_mode": {
    "name": "ipython",
    "version": 3
   },
   "file_extension": ".py",
   "mimetype": "text/x-python",
   "name": "python",
   "nbconvert_exporter": "python",
   "pygments_lexer": "ipython3",
   "version": "3.11.9"
  }
 },
 "nbformat": 4,
 "nbformat_minor": 5
}
